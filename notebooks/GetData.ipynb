{
 "cells": [
  {
   "cell_type": "code",
   "execution_count": 1,
   "metadata": {},
   "outputs": [],
   "source": [
    "import pandas\n",
    "import numpy\n",
    "import pyodbc"
   ]
  },
  {
   "cell_type": "code",
   "execution_count": 2,
   "metadata": {},
   "outputs": [
    {
     "name": "stdout",
     "output_type": "stream",
     "text": [
      "     EAN             EQUIPE             VENDEDOR    JAN   FEV   MAR   ABR   \\\n",
      "0     2411876356324  Hospitalar         Catarina      58    76    55     1   \n",
      "1     2411876356324  Hospitalar         Micaela      218    16    87    98   \n",
      "2     2411876356324  Hospitalar         Emanuel       78    87    20    40   \n",
      "3     2411876356324  Hospitalar         André         98   113   128    31   \n",
      "4     2411876356324  Hospitalar         Tiago        173    21    96    28   \n",
      "..              ...                ...         ...   ...   ...   ...   ...   \n",
      "295   7387011391563  Visitação Médica   Júlia         86    83    82   173   \n",
      "296   7387011391563  Visitação Médica   Leticia       89    64    23    37   \n",
      "297   7387011391563  Visitação Médica   Calebe       146   123   163   114   \n",
      "298   7387011391563  Visitação Médica   Igor         202    16    96    46   \n",
      "299   7387011391563  Visitação Médica   Ângelo       109    27    57    22   \n",
      "\n",
      "     MAI   JUN   JUL   AGO   SET   OUT   NOV   DEZ  \n",
      "0       7     9   144    37    95    42   145  122  \n",
      "1     203    76    34    15    75    75    39   43  \n",
      "2      66   172   131    30    31    88   184   21  \n",
      "3     131    23   126    76   107    56     0  128  \n",
      "4     118   104   129    83   112     6    10  108  \n",
      "..    ...   ...   ...   ...   ...   ...   ...  ...  \n",
      "295   122   112    59    51   143   168    54  141  \n",
      "296    25   196    66    33   115    44   175  106  \n",
      "297    60   131   108   141    85    20   147  206  \n",
      "298   186   137   142    64    59     3    35  139  \n",
      "299    16   187   158    79    23    91    51   50  \n",
      "\n",
      "[300 rows x 15 columns]\n"
     ]
    }
   ],
   "source": [
    "data = pandas.read_csv('C:\\\\Users\\\\jlfen\\\\OneDrive\\\\Documentos\\\\JoaoKasten\\\\005_applied_projects\\\\Trabalho\\\\Processos-Seletivos\\\\HSL_Teste\\\\HSL-Processo-Seletivo\\\\data\\\\BASE _OBJETIVOS.csv', sep=';')\n",
    "df = pandas.DataFrame(data)\n",
    "print(df)"
   ]
  },
  {
   "cell_type": "code",
   "execution_count": 3,
   "metadata": {},
   "outputs": [],
   "source": []
  }
 ],
 "metadata": {
  "kernelspec": {
   "display_name": "DataScienceEnv",
   "language": "python",
   "name": "python3"
  },
  "language_info": {
   "codemirror_mode": {
    "name": "ipython",
    "version": 3
   },
   "file_extension": ".py",
   "mimetype": "text/x-python",
   "name": "python",
   "nbconvert_exporter": "python",
   "pygments_lexer": "ipython3",
   "version": "3.10.12"
  }
 },
 "nbformat": 4,
 "nbformat_minor": 2
}
